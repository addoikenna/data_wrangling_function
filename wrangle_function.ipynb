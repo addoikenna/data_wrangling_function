{
 "cells": [
  {
   "cell_type": "markdown",
   "id": "9f0c3960",
   "metadata": {},
   "source": [
    "<font size=\"+3\"><strong>Predicting Price with Size</strong></font>"
   ]
  },
  {
   "cell_type": "markdown",
   "id": "0c4adf2d",
   "metadata": {},
   "source": [
    "<font size=\"+1\"><strong>1. Importing Libraries</strong></font>"
   ]
  },
  {
   "cell_type": "code",
   "execution_count": 1,
   "id": "aadde25c",
   "metadata": {},
   "outputs": [],
   "source": [
    "import matplotlib.pyplot as plt\n",
    "import pandas as pd\n",
    "import numpy as np\n",
    "import seaborn as sns\n",
    "sns.set()\n",
    "\n",
    "from glob import glob # Used to import multiple csv files"
   ]
  },
  {
   "cell_type": "markdown",
   "id": "b503c903",
   "metadata": {},
   "source": [
    "In this project, we're working for a client who wants to create a model that can predict the price of apartments in the city of  Distrito Federal — with a focus on apartments that cost less than $400,000 USD. The client has collected 5 different csv files and wants to clean then and as well join them together.\n",
    "\n",
    "Our goal here is to clean the data and save it as a new csv file."
   ]
  },
  {
   "cell_type": "markdown",
   "id": "c54d7f3b",
   "metadata": {},
   "source": [
    "# Prepare Data"
   ]
  },
  {
   "cell_type": "markdown",
   "id": "b28f1bbd",
   "metadata": {},
   "source": [
    "<font size=\"+1\"><strong>1. Clean Dataset</strong></font>"
   ]
  },
  {
   "cell_type": "code",
   "execution_count": 2,
   "id": "a4001c1c",
   "metadata": {},
   "outputs": [
    {
     "data": {
      "text/html": [
       "<div>\n",
       "<style scoped>\n",
       "    .dataframe tbody tr th:only-of-type {\n",
       "        vertical-align: middle;\n",
       "    }\n",
       "\n",
       "    .dataframe tbody tr th {\n",
       "        vertical-align: top;\n",
       "    }\n",
       "\n",
       "    .dataframe thead th {\n",
       "        text-align: right;\n",
       "    }\n",
       "</style>\n",
       "<table border=\"1\" class=\"dataframe\">\n",
       "  <thead>\n",
       "    <tr style=\"text-align: right;\">\n",
       "      <th></th>\n",
       "      <th>operation</th>\n",
       "      <th>property_type</th>\n",
       "      <th>place_with_parent_names</th>\n",
       "      <th>lat-lon</th>\n",
       "      <th>price</th>\n",
       "      <th>currency</th>\n",
       "      <th>price_aprox_local_currency</th>\n",
       "      <th>price_aprox_usd</th>\n",
       "      <th>surface_total_in_m2</th>\n",
       "      <th>surface_covered_in_m2</th>\n",
       "      <th>price_usd_per_m2</th>\n",
       "      <th>price_per_m2</th>\n",
       "      <th>floor</th>\n",
       "      <th>rooms</th>\n",
       "      <th>expenses</th>\n",
       "      <th>properati_url</th>\n",
       "    </tr>\n",
       "  </thead>\n",
       "  <tbody>\n",
       "    <tr>\n",
       "      <th>0</th>\n",
       "      <td>sell</td>\n",
       "      <td>apartment</td>\n",
       "      <td>|Miguel Hidalgo|Distrito Federal|México|</td>\n",
       "      <td>23.634501,-102.552788</td>\n",
       "      <td>5500000.0</td>\n",
       "      <td>MXN</td>\n",
       "      <td>5450245.50</td>\n",
       "      <td>289775.66</td>\n",
       "      <td>NaN</td>\n",
       "      <td>54.0</td>\n",
       "      <td>NaN</td>\n",
       "      <td>101851.851852</td>\n",
       "      <td>NaN</td>\n",
       "      <td>NaN</td>\n",
       "      <td>NaN</td>\n",
       "      <td>http://miguel-hidalgo-df.properati.com.mx/o3zb...</td>\n",
       "    </tr>\n",
       "    <tr>\n",
       "      <th>1</th>\n",
       "      <td>sell</td>\n",
       "      <td>house</td>\n",
       "      <td>|Iztapalapa|Distrito Federal|México|</td>\n",
       "      <td>19.31033,-99.068557</td>\n",
       "      <td>1512000.0</td>\n",
       "      <td>MXN</td>\n",
       "      <td>1498321.97</td>\n",
       "      <td>79661.96</td>\n",
       "      <td>NaN</td>\n",
       "      <td>80.0</td>\n",
       "      <td>NaN</td>\n",
       "      <td>18900.000000</td>\n",
       "      <td>NaN</td>\n",
       "      <td>NaN</td>\n",
       "      <td>NaN</td>\n",
       "      <td>http://iztapalapa.properati.com.mx/q7t0_venta_...</td>\n",
       "    </tr>\n",
       "    <tr>\n",
       "      <th>2</th>\n",
       "      <td>sell</td>\n",
       "      <td>apartment</td>\n",
       "      <td>|Tlalpan|Distrito Federal|México|</td>\n",
       "      <td>19.279771,-99.234597</td>\n",
       "      <td>926667.0</td>\n",
       "      <td>MXN</td>\n",
       "      <td>918284.00</td>\n",
       "      <td>48822.82</td>\n",
       "      <td>NaN</td>\n",
       "      <td>100.0</td>\n",
       "      <td>NaN</td>\n",
       "      <td>9266.670000</td>\n",
       "      <td>NaN</td>\n",
       "      <td>NaN</td>\n",
       "      <td>NaN</td>\n",
       "      <td>http://tlalpan.properati.com.mx/qbi4_venta_dep...</td>\n",
       "    </tr>\n",
       "    <tr>\n",
       "      <th>3</th>\n",
       "      <td>sell</td>\n",
       "      <td>apartment</td>\n",
       "      <td>|Miguel Hidalgo|Distrito Federal|México|</td>\n",
       "      <td>23.634501,-102.552788</td>\n",
       "      <td>6410000.0</td>\n",
       "      <td>MXN</td>\n",
       "      <td>6352013.39</td>\n",
       "      <td>337720.36</td>\n",
       "      <td>NaN</td>\n",
       "      <td>135.0</td>\n",
       "      <td>NaN</td>\n",
       "      <td>47481.481481</td>\n",
       "      <td>NaN</td>\n",
       "      <td>NaN</td>\n",
       "      <td>NaN</td>\n",
       "      <td>http://miguel-hidalgo-df.properati.com.mx/opeq...</td>\n",
       "    </tr>\n",
       "    <tr>\n",
       "      <th>4</th>\n",
       "      <td>sell</td>\n",
       "      <td>apartment</td>\n",
       "      <td>|Benito Juárez|Quintana Roo|México|</td>\n",
       "      <td>21.1902642,-86.8198375</td>\n",
       "      <td>875000.0</td>\n",
       "      <td>USD</td>\n",
       "      <td>16457437.50</td>\n",
       "      <td>875000.00</td>\n",
       "      <td>0.0</td>\n",
       "      <td>263.0</td>\n",
       "      <td>NaN</td>\n",
       "      <td>3326.996198</td>\n",
       "      <td>NaN</td>\n",
       "      <td>NaN</td>\n",
       "      <td>NaN</td>\n",
       "      <td>http://cancun.properati.com.mx/hg4t_venta_depa...</td>\n",
       "    </tr>\n",
       "  </tbody>\n",
       "</table>\n",
       "</div>"
      ],
      "text/plain": [
       "  operation property_type                   place_with_parent_names  \\\n",
       "0      sell     apartment  |Miguel Hidalgo|Distrito Federal|México|   \n",
       "1      sell         house      |Iztapalapa|Distrito Federal|México|   \n",
       "2      sell     apartment         |Tlalpan|Distrito Federal|México|   \n",
       "3      sell     apartment  |Miguel Hidalgo|Distrito Federal|México|   \n",
       "4      sell     apartment       |Benito Juárez|Quintana Roo|México|   \n",
       "\n",
       "                  lat-lon      price currency  price_aprox_local_currency  \\\n",
       "0   23.634501,-102.552788  5500000.0      MXN                  5450245.50   \n",
       "1     19.31033,-99.068557  1512000.0      MXN                  1498321.97   \n",
       "2    19.279771,-99.234597   926667.0      MXN                   918284.00   \n",
       "3   23.634501,-102.552788  6410000.0      MXN                  6352013.39   \n",
       "4  21.1902642,-86.8198375   875000.0      USD                 16457437.50   \n",
       "\n",
       "   price_aprox_usd  surface_total_in_m2  surface_covered_in_m2  \\\n",
       "0        289775.66                  NaN                   54.0   \n",
       "1         79661.96                  NaN                   80.0   \n",
       "2         48822.82                  NaN                  100.0   \n",
       "3        337720.36                  NaN                  135.0   \n",
       "4        875000.00                  0.0                  263.0   \n",
       "\n",
       "   price_usd_per_m2   price_per_m2  floor  rooms  expenses  \\\n",
       "0               NaN  101851.851852    NaN    NaN       NaN   \n",
       "1               NaN   18900.000000    NaN    NaN       NaN   \n",
       "2               NaN    9266.670000    NaN    NaN       NaN   \n",
       "3               NaN   47481.481481    NaN    NaN       NaN   \n",
       "4               NaN    3326.996198    NaN    NaN       NaN   \n",
       "\n",
       "                                       properati_url  \n",
       "0  http://miguel-hidalgo-df.properati.com.mx/o3zb...  \n",
       "1  http://iztapalapa.properati.com.mx/q7t0_venta_...  \n",
       "2  http://tlalpan.properati.com.mx/qbi4_venta_dep...  \n",
       "3  http://miguel-hidalgo-df.properati.com.mx/opeq...  \n",
       "4  http://cancun.properati.com.mx/hg4t_venta_depa...  "
      ]
     },
     "execution_count": 2,
     "metadata": {},
     "output_type": "execute_result"
    }
   ],
   "source": [
    "df1 = pd.read_csv(\"data/mexico-city-real-estate-1.csv\")\n",
    "df1.head()"
   ]
  },
  {
   "cell_type": "code",
   "execution_count": 3,
   "id": "1f5e257c",
   "metadata": {},
   "outputs": [
    {
     "name": "stdout",
     "output_type": "stream",
     "text": [
      "<class 'pandas.core.frame.DataFrame'>\n",
      "RangeIndex: 4628 entries, 0 to 4627\n",
      "Data columns (total 16 columns):\n",
      " #   Column                      Non-Null Count  Dtype  \n",
      "---  ------                      --------------  -----  \n",
      " 0   operation                   4628 non-null   object \n",
      " 1   property_type               4628 non-null   object \n",
      " 2   place_with_parent_names     4628 non-null   object \n",
      " 3   lat-lon                     4144 non-null   object \n",
      " 4   price                       4538 non-null   float64\n",
      " 5   currency                    4538 non-null   object \n",
      " 6   price_aprox_local_currency  4538 non-null   float64\n",
      " 7   price_aprox_usd             4538 non-null   float64\n",
      " 8   surface_total_in_m2         1668 non-null   float64\n",
      " 9   surface_covered_in_m2       4436 non-null   float64\n",
      " 10  price_usd_per_m2            1150 non-null   float64\n",
      " 11  price_per_m2                4249 non-null   float64\n",
      " 12  floor                       291 non-null    float64\n",
      " 13  rooms                       136 non-null    float64\n",
      " 14  expenses                    5 non-null      float64\n",
      " 15  properati_url               4628 non-null   object \n",
      "dtypes: float64(10), object(6)\n",
      "memory usage: 578.6+ KB\n"
     ]
    }
   ],
   "source": [
    "df1.info()"
   ]
  },
  {
   "cell_type": "code",
   "execution_count": 4,
   "id": "603d7f87",
   "metadata": {},
   "outputs": [
    {
     "data": {
      "text/plain": [
       "Distrito Federal    3821\n",
       "Quintana Roo         707\n",
       "Solidaridad           61\n",
       "Zacatecas             20\n",
       "Benito Juárez         17\n",
       "Othón P. Blanco        2\n",
       "Name: 2, dtype: int64"
      ]
     },
     "execution_count": 4,
     "metadata": {},
     "output_type": "execute_result"
    }
   ],
   "source": [
    "df1[\"place_with_parent_names\"].str.split(\"|\", expand=True)[2].value_counts()"
   ]
  },
  {
   "cell_type": "markdown",
   "id": "a02e7160",
   "metadata": {},
   "source": [
    "Since our data contains more apartments in **\"Districto Federal\"**, we will focus mainly in that state."
   ]
  },
  {
   "cell_type": "code",
   "execution_count": 5,
   "id": "53ef9649",
   "metadata": {},
   "outputs": [
    {
     "data": {
      "text/plain": [
       "True     3821\n",
       "False     807\n",
       "Name: place_with_parent_names, dtype: int64"
      ]
     },
     "execution_count": 5,
     "metadata": {},
     "output_type": "execute_result"
    }
   ],
   "source": [
    "state = df1[\"place_with_parent_names\"].str.contains(\"Distrito Federal\")\n",
    "state.value_counts()"
   ]
  },
  {
   "cell_type": "markdown",
   "id": "cc0bfb69",
   "metadata": {},
   "source": [
    "Now let's subset **\"apartment\"** only that are less than **400 000 USD**"
   ]
  },
  {
   "cell_type": "code",
   "execution_count": 6,
   "id": "449f9f0a",
   "metadata": {},
   "outputs": [
    {
     "data": {
      "text/plain": [
       "(2427, 16)"
      ]
     },
     "execution_count": 6,
     "metadata": {},
     "output_type": "execute_result"
    }
   ],
   "source": [
    "price = df1[\"price_aprox_usd\"] < 400_000\n",
    "apt = df1[\"property_type\"] == \"apartment\"\n",
    "\n",
    "df1_subset = df1[state & price & apt]\n",
    "\n",
    "df1_subset.shape"
   ]
  },
  {
   "cell_type": "code",
   "execution_count": 7,
   "id": "41b0b648",
   "metadata": {},
   "outputs": [
    {
     "data": {
      "text/html": [
       "<div>\n",
       "<style scoped>\n",
       "    .dataframe tbody tr th:only-of-type {\n",
       "        vertical-align: middle;\n",
       "    }\n",
       "\n",
       "    .dataframe tbody tr th {\n",
       "        vertical-align: top;\n",
       "    }\n",
       "\n",
       "    .dataframe thead th {\n",
       "        text-align: right;\n",
       "    }\n",
       "</style>\n",
       "<table border=\"1\" class=\"dataframe\">\n",
       "  <thead>\n",
       "    <tr style=\"text-align: right;\">\n",
       "      <th></th>\n",
       "      <th>operation</th>\n",
       "      <th>property_type</th>\n",
       "      <th>place_with_parent_names</th>\n",
       "      <th>lat-lon</th>\n",
       "      <th>price</th>\n",
       "      <th>currency</th>\n",
       "      <th>price_aprox_local_currency</th>\n",
       "      <th>price_aprox_usd</th>\n",
       "      <th>surface_total_in_m2</th>\n",
       "      <th>surface_covered_in_m2</th>\n",
       "      <th>price_usd_per_m2</th>\n",
       "      <th>price_per_m2</th>\n",
       "      <th>floor</th>\n",
       "      <th>rooms</th>\n",
       "      <th>expenses</th>\n",
       "      <th>properati_url</th>\n",
       "    </tr>\n",
       "  </thead>\n",
       "  <tbody>\n",
       "    <tr>\n",
       "      <th>0</th>\n",
       "      <td>sell</td>\n",
       "      <td>apartment</td>\n",
       "      <td>|Miguel Hidalgo|Distrito Federal|México|</td>\n",
       "      <td>23.634501,-102.552788</td>\n",
       "      <td>5500000.0</td>\n",
       "      <td>MXN</td>\n",
       "      <td>5450245.50</td>\n",
       "      <td>289775.66</td>\n",
       "      <td>NaN</td>\n",
       "      <td>54.0</td>\n",
       "      <td>NaN</td>\n",
       "      <td>101851.851852</td>\n",
       "      <td>NaN</td>\n",
       "      <td>NaN</td>\n",
       "      <td>NaN</td>\n",
       "      <td>http://miguel-hidalgo-df.properati.com.mx/o3zb...</td>\n",
       "    </tr>\n",
       "    <tr>\n",
       "      <th>2</th>\n",
       "      <td>sell</td>\n",
       "      <td>apartment</td>\n",
       "      <td>|Tlalpan|Distrito Federal|México|</td>\n",
       "      <td>19.279771,-99.234597</td>\n",
       "      <td>926667.0</td>\n",
       "      <td>MXN</td>\n",
       "      <td>918284.00</td>\n",
       "      <td>48822.82</td>\n",
       "      <td>NaN</td>\n",
       "      <td>100.0</td>\n",
       "      <td>NaN</td>\n",
       "      <td>9266.670000</td>\n",
       "      <td>NaN</td>\n",
       "      <td>NaN</td>\n",
       "      <td>NaN</td>\n",
       "      <td>http://tlalpan.properati.com.mx/qbi4_venta_dep...</td>\n",
       "    </tr>\n",
       "    <tr>\n",
       "      <th>3</th>\n",
       "      <td>sell</td>\n",
       "      <td>apartment</td>\n",
       "      <td>|Miguel Hidalgo|Distrito Federal|México|</td>\n",
       "      <td>23.634501,-102.552788</td>\n",
       "      <td>6410000.0</td>\n",
       "      <td>MXN</td>\n",
       "      <td>6352013.39</td>\n",
       "      <td>337720.36</td>\n",
       "      <td>NaN</td>\n",
       "      <td>135.0</td>\n",
       "      <td>NaN</td>\n",
       "      <td>47481.481481</td>\n",
       "      <td>NaN</td>\n",
       "      <td>NaN</td>\n",
       "      <td>NaN</td>\n",
       "      <td>http://miguel-hidalgo-df.properati.com.mx/opeq...</td>\n",
       "    </tr>\n",
       "    <tr>\n",
       "      <th>5</th>\n",
       "      <td>sell</td>\n",
       "      <td>apartment</td>\n",
       "      <td>|Miguel Hidalgo|Distrito Federal|México|</td>\n",
       "      <td>19.432657,-99.177444</td>\n",
       "      <td>4416000.0</td>\n",
       "      <td>MXN</td>\n",
       "      <td>4376051.62</td>\n",
       "      <td>232663.51</td>\n",
       "      <td>NaN</td>\n",
       "      <td>87.0</td>\n",
       "      <td>NaN</td>\n",
       "      <td>50758.620690</td>\n",
       "      <td>NaN</td>\n",
       "      <td>NaN</td>\n",
       "      <td>NaN</td>\n",
       "      <td>http://anzures.properati.com.mx/opct_venta_dep...</td>\n",
       "    </tr>\n",
       "    <tr>\n",
       "      <th>6</th>\n",
       "      <td>sell</td>\n",
       "      <td>apartment</td>\n",
       "      <td>|Benito Juárez|Distrito Federal|México|</td>\n",
       "      <td>19.367025,-99.170349</td>\n",
       "      <td>3150000.0</td>\n",
       "      <td>MXN</td>\n",
       "      <td>3122244.47</td>\n",
       "      <td>166001.78</td>\n",
       "      <td>NaN</td>\n",
       "      <td>100.0</td>\n",
       "      <td>NaN</td>\n",
       "      <td>31500.000000</td>\n",
       "      <td>NaN</td>\n",
       "      <td>NaN</td>\n",
       "      <td>NaN</td>\n",
       "      <td>http://benito-juarez.properati.com.mx/r3a9_ven...</td>\n",
       "    </tr>\n",
       "  </tbody>\n",
       "</table>\n",
       "</div>"
      ],
      "text/plain": [
       "  operation property_type                   place_with_parent_names  \\\n",
       "0      sell     apartment  |Miguel Hidalgo|Distrito Federal|México|   \n",
       "2      sell     apartment         |Tlalpan|Distrito Federal|México|   \n",
       "3      sell     apartment  |Miguel Hidalgo|Distrito Federal|México|   \n",
       "5      sell     apartment  |Miguel Hidalgo|Distrito Federal|México|   \n",
       "6      sell     apartment   |Benito Juárez|Distrito Federal|México|   \n",
       "\n",
       "                 lat-lon      price currency  price_aprox_local_currency  \\\n",
       "0  23.634501,-102.552788  5500000.0      MXN                  5450245.50   \n",
       "2   19.279771,-99.234597   926667.0      MXN                   918284.00   \n",
       "3  23.634501,-102.552788  6410000.0      MXN                  6352013.39   \n",
       "5   19.432657,-99.177444  4416000.0      MXN                  4376051.62   \n",
       "6   19.367025,-99.170349  3150000.0      MXN                  3122244.47   \n",
       "\n",
       "   price_aprox_usd  surface_total_in_m2  surface_covered_in_m2  \\\n",
       "0        289775.66                  NaN                   54.0   \n",
       "2         48822.82                  NaN                  100.0   \n",
       "3        337720.36                  NaN                  135.0   \n",
       "5        232663.51                  NaN                   87.0   \n",
       "6        166001.78                  NaN                  100.0   \n",
       "\n",
       "   price_usd_per_m2   price_per_m2  floor  rooms  expenses  \\\n",
       "0               NaN  101851.851852    NaN    NaN       NaN   \n",
       "2               NaN    9266.670000    NaN    NaN       NaN   \n",
       "3               NaN   47481.481481    NaN    NaN       NaN   \n",
       "5               NaN   50758.620690    NaN    NaN       NaN   \n",
       "6               NaN   31500.000000    NaN    NaN       NaN   \n",
       "\n",
       "                                       properati_url  \n",
       "0  http://miguel-hidalgo-df.properati.com.mx/o3zb...  \n",
       "2  http://tlalpan.properati.com.mx/qbi4_venta_dep...  \n",
       "3  http://miguel-hidalgo-df.properati.com.mx/opeq...  \n",
       "5  http://anzures.properati.com.mx/opct_venta_dep...  \n",
       "6  http://benito-juarez.properati.com.mx/r3a9_ven...  "
      ]
     },
     "execution_count": 7,
     "metadata": {},
     "output_type": "execute_result"
    }
   ],
   "source": [
    "df1_subset.head()"
   ]
  },
  {
   "cell_type": "markdown",
   "id": "7b78ceeb",
   "metadata": {},
   "source": [
    "Let's examine the **\"surface_covered_in_m2\"** column."
   ]
  },
  {
   "cell_type": "code",
   "execution_count": 8,
   "id": "48fec6a6",
   "metadata": {},
   "outputs": [
    {
     "data": {
      "text/plain": [
       "count     2311.000000\n",
       "mean       110.289485\n",
       "std        694.141283\n",
       "min          0.000000\n",
       "25%         60.000000\n",
       "50%         75.000000\n",
       "75%         96.000000\n",
       "max      31840.000000\n",
       "Name: surface_covered_in_m2, dtype: float64"
      ]
     },
     "execution_count": 8,
     "metadata": {},
     "output_type": "execute_result"
    }
   ],
   "source": [
    "df1_subset[\"surface_covered_in_m2\"].describe()"
   ]
  },
  {
   "cell_type": "markdown",
   "id": "cbcd0f1d",
   "metadata": {},
   "source": [
    "It is observed that **75%** of the apartments are less than **100 sq meters** and then the maximum size is over **31000 sq meters**. This shows that there are ouliers in the dataset."
   ]
  },
  {
   "cell_type": "code",
   "execution_count": 9,
   "id": "12ea38c2",
   "metadata": {},
   "outputs": [],
   "source": [
    "# Remove outliers: Cut off the top and bottom 10%\n",
    "\n",
    "low, high = df1_subset[\"surface_covered_in_m2\"].quantile([0.1, 0.9])\n",
    "area = df1_subset[\"surface_covered_in_m2\"].between(low, high)\n",
    "df1_subset = df1_subset[area]"
   ]
  },
  {
   "cell_type": "code",
   "execution_count": 10,
   "id": "f46a708c",
   "metadata": {},
   "outputs": [
    {
     "data": {
      "text/plain": [
       "count    1910.000000\n",
       "mean       77.341361\n",
       "std        19.126381\n",
       "min        50.000000\n",
       "25%        61.000000\n",
       "50%        74.000000\n",
       "75%        90.000000\n",
       "max       126.000000\n",
       "Name: surface_covered_in_m2, dtype: float64"
      ]
     },
     "execution_count": 10,
     "metadata": {},
     "output_type": "execute_result"
    }
   ],
   "source": [
    "df1_subset[\"surface_covered_in_m2\"].describe()"
   ]
  },
  {
   "cell_type": "markdown",
   "id": "9c9e7da6",
   "metadata": {},
   "source": [
    "Let's visualise the destribution of apartments in Distrito Federal by home sizes using a histogram and boxplot."
   ]
  },
  {
   "cell_type": "code",
   "execution_count": 11,
   "id": "2e9bcbdb",
   "metadata": {},
   "outputs": [
    {
     "data": {
      "image/png": "[encoded data removed]",
      "text/plain": [
       "<Figure size 432x288 with 1 Axes>"
      ]
     },
     "metadata": {},
     "output_type": "display_data"
    }
   ],
   "source": [
    "# Build histogram\n",
    "\n",
    "plt.hist(\n",
    "     df1_subset[\"surface_covered_in_m2\"],\n",
    "    #vert=False\n",
    ")\n",
    "\n",
    "\n",
    "# Label x-axis\n",
    "plt.xlabel(\"Area [sq meters]\")\n",
    "plt.ylabel(\"Frequency\")\n",
    "\n",
    "# Add title\n",
    "plt.title(\"Distribution of Home Sizes\")\n",
    "\n",
    "# save as an image\n",
    "plt.savefig(\"images/1-1.png\", dpi=150)"
   ]
  },
  {
   "cell_type": "code",
   "execution_count": 12,
   "id": "fde82de2",
   "metadata": {},
   "outputs": [
    {
     "data": {
      "image/png": "[encoded data removed]",
      "text/plain": [
       "<Figure size 432x288 with 1 Axes>"
      ]
     },
     "metadata": {},
     "output_type": "display_data"
    }
   ],
   "source": [
    "# Build a boxplot\n",
    "\n",
    "plt.boxplot(\n",
    "     df1_subset[\"surface_covered_in_m2\"],\n",
    "    vert=False\n",
    ")\n",
    "\n",
    "\n",
    "# Label x-axis\n",
    "plt.xlabel(\"Area [sq meters]\")\n",
    "\n",
    "# Add title\n",
    "plt.title(\"Distribution of Home Sizes\")\n",
    "\n",
    "# save as an image\n",
    "plt.savefig(\"images/1-2.png\", dpi=150)"
   ]
  },
  {
   "cell_type": "markdown",
   "id": "4a6f03ab",
   "metadata": {},
   "source": [
    "#### Lat and Lon columns"
   ]
  },
  {
   "cell_type": "markdown",
   "id": "82b7fe79",
   "metadata": {},
   "source": [
    "Looking at the **\"lat-lon\"** column, we will observe that the data type is an object instead of float, and also the column is supposed to be seperated into **\"lat\"** and **\"lon\"** seperate columns. "
   ]
  },
  {
   "cell_type": "code",
   "execution_count": 13,
   "id": "ef4597cb",
   "metadata": {},
   "outputs": [
    {
     "name": "stdout",
     "output_type": "stream",
     "text": [
      "<class 'pandas.core.frame.DataFrame'>\n",
      "Int64Index: 1910 entries, 0 to 4627\n",
      "Data columns (total 18 columns):\n",
      " #   Column                      Non-Null Count  Dtype  \n",
      "---  ------                      --------------  -----  \n",
      " 0   operation                   1910 non-null   object \n",
      " 1   property_type               1910 non-null   object \n",
      " 2   place_with_parent_names     1910 non-null   object \n",
      " 3   lat-lon                     1795 non-null   object \n",
      " 4   price                       1910 non-null   float64\n",
      " 5   currency                    1910 non-null   object \n",
      " 6   price_aprox_local_currency  1910 non-null   float64\n",
      " 7   price_aprox_usd             1910 non-null   float64\n",
      " 8   surface_total_in_m2         286 non-null    float64\n",
      " 9   surface_covered_in_m2       1910 non-null   float64\n",
      " 10  price_usd_per_m2            157 non-null    float64\n",
      " 11  price_per_m2                1910 non-null   float64\n",
      " 12  floor                       0 non-null      float64\n",
      " 13  rooms                       8 non-null      float64\n",
      " 14  expenses                    0 non-null      float64\n",
      " 15  properati_url               1910 non-null   object \n",
      " 16  lat                         1795 non-null   float64\n",
      " 17  lon                         1795 non-null   float64\n",
      "dtypes: float64(12), object(6)\n",
      "memory usage: 283.5+ KB\n"
     ]
    }
   ],
   "source": [
    "df1_subset[[\"lat\", \"lon\"]] = df1_subset[\"lat-lon\"].str.split(\",\", expand=True).astype(float)\n",
    "\n",
    "df1_subset.info()"
   ]
  },
  {
   "cell_type": "markdown",
   "id": "70e0826a",
   "metadata": {},
   "source": [
    "#### State and Neighborhood columns"
   ]
  },
  {
   "cell_type": "code",
   "execution_count": 14,
   "id": "79679b53",
   "metadata": {},
   "outputs": [
    {
     "data": {
      "text/html": [
       "<div>\n",
       "<style scoped>\n",
       "    .dataframe tbody tr th:only-of-type {\n",
       "        vertical-align: middle;\n",
       "    }\n",
       "\n",
       "    .dataframe tbody tr th {\n",
       "        vertical-align: top;\n",
       "    }\n",
       "\n",
       "    .dataframe thead th {\n",
       "        text-align: right;\n",
       "    }\n",
       "</style>\n",
       "<table border=\"1\" class=\"dataframe\">\n",
       "  <thead>\n",
       "    <tr style=\"text-align: right;\">\n",
       "      <th></th>\n",
       "      <th>operation</th>\n",
       "      <th>property_type</th>\n",
       "      <th>price</th>\n",
       "      <th>currency</th>\n",
       "      <th>price_aprox_local_currency</th>\n",
       "      <th>price_aprox_usd</th>\n",
       "      <th>surface_total_in_m2</th>\n",
       "      <th>surface_covered_in_m2</th>\n",
       "      <th>price_usd_per_m2</th>\n",
       "      <th>price_per_m2</th>\n",
       "      <th>floor</th>\n",
       "      <th>rooms</th>\n",
       "      <th>expenses</th>\n",
       "      <th>properati_url</th>\n",
       "      <th>lat</th>\n",
       "      <th>lon</th>\n",
       "      <th>borough</th>\n",
       "    </tr>\n",
       "  </thead>\n",
       "  <tbody>\n",
       "    <tr>\n",
       "      <th>0</th>\n",
       "      <td>sell</td>\n",
       "      <td>apartment</td>\n",
       "      <td>5500000.0</td>\n",
       "      <td>MXN</td>\n",
       "      <td>5450245.50</td>\n",
       "      <td>289775.66</td>\n",
       "      <td>NaN</td>\n",
       "      <td>54.0</td>\n",
       "      <td>NaN</td>\n",
       "      <td>101851.851852</td>\n",
       "      <td>NaN</td>\n",
       "      <td>NaN</td>\n",
       "      <td>NaN</td>\n",
       "      <td>http://miguel-hidalgo-df.properati.com.mx/o3zb...</td>\n",
       "      <td>23.634501</td>\n",
       "      <td>-102.552788</td>\n",
       "      <td>Miguel Hidalgo</td>\n",
       "    </tr>\n",
       "    <tr>\n",
       "      <th>2</th>\n",
       "      <td>sell</td>\n",
       "      <td>apartment</td>\n",
       "      <td>926667.0</td>\n",
       "      <td>MXN</td>\n",
       "      <td>918284.00</td>\n",
       "      <td>48822.82</td>\n",
       "      <td>NaN</td>\n",
       "      <td>100.0</td>\n",
       "      <td>NaN</td>\n",
       "      <td>9266.670000</td>\n",
       "      <td>NaN</td>\n",
       "      <td>NaN</td>\n",
       "      <td>NaN</td>\n",
       "      <td>http://tlalpan.properati.com.mx/qbi4_venta_dep...</td>\n",
       "      <td>19.279771</td>\n",
       "      <td>-99.234597</td>\n",
       "      <td>Tlalpan</td>\n",
       "    </tr>\n",
       "    <tr>\n",
       "      <th>5</th>\n",
       "      <td>sell</td>\n",
       "      <td>apartment</td>\n",
       "      <td>4416000.0</td>\n",
       "      <td>MXN</td>\n",
       "      <td>4376051.62</td>\n",
       "      <td>232663.51</td>\n",
       "      <td>NaN</td>\n",
       "      <td>87.0</td>\n",
       "      <td>NaN</td>\n",
       "      <td>50758.620690</td>\n",
       "      <td>NaN</td>\n",
       "      <td>NaN</td>\n",
       "      <td>NaN</td>\n",
       "      <td>http://anzures.properati.com.mx/opct_venta_dep...</td>\n",
       "      <td>19.432657</td>\n",
       "      <td>-99.177444</td>\n",
       "      <td>Miguel Hidalgo</td>\n",
       "    </tr>\n",
       "    <tr>\n",
       "      <th>6</th>\n",
       "      <td>sell</td>\n",
       "      <td>apartment</td>\n",
       "      <td>3150000.0</td>\n",
       "      <td>MXN</td>\n",
       "      <td>3122244.47</td>\n",
       "      <td>166001.78</td>\n",
       "      <td>NaN</td>\n",
       "      <td>100.0</td>\n",
       "      <td>NaN</td>\n",
       "      <td>31500.000000</td>\n",
       "      <td>NaN</td>\n",
       "      <td>NaN</td>\n",
       "      <td>NaN</td>\n",
       "      <td>http://benito-juarez.properati.com.mx/r3a9_ven...</td>\n",
       "      <td>19.367025</td>\n",
       "      <td>-99.170349</td>\n",
       "      <td>Benito Juárez</td>\n",
       "    </tr>\n",
       "    <tr>\n",
       "      <th>11</th>\n",
       "      <td>sell</td>\n",
       "      <td>apartment</td>\n",
       "      <td>1784569.0</td>\n",
       "      <td>MXN</td>\n",
       "      <td>1768425.20</td>\n",
       "      <td>94022.66</td>\n",
       "      <td>NaN</td>\n",
       "      <td>57.0</td>\n",
       "      <td>NaN</td>\n",
       "      <td>31308.228070</td>\n",
       "      <td>NaN</td>\n",
       "      <td>NaN</td>\n",
       "      <td>NaN</td>\n",
       "      <td>http://benito-juarez.properati.com.mx/pdji_ven...</td>\n",
       "      <td>23.634501</td>\n",
       "      <td>-102.552788</td>\n",
       "      <td>Benito Juárez</td>\n",
       "    </tr>\n",
       "  </tbody>\n",
       "</table>\n",
       "</div>"
      ],
      "text/plain": [
       "   operation property_type      price currency  price_aprox_local_currency  \\\n",
       "0       sell     apartment  5500000.0      MXN                  5450245.50   \n",
       "2       sell     apartment   926667.0      MXN                   918284.00   \n",
       "5       sell     apartment  4416000.0      MXN                  4376051.62   \n",
       "6       sell     apartment  3150000.0      MXN                  3122244.47   \n",
       "11      sell     apartment  1784569.0      MXN                  1768425.20   \n",
       "\n",
       "    price_aprox_usd  surface_total_in_m2  surface_covered_in_m2  \\\n",
       "0         289775.66                  NaN                   54.0   \n",
       "2          48822.82                  NaN                  100.0   \n",
       "5         232663.51                  NaN                   87.0   \n",
       "6         166001.78                  NaN                  100.0   \n",
       "11         94022.66                  NaN                   57.0   \n",
       "\n",
       "    price_usd_per_m2   price_per_m2  floor  rooms  expenses  \\\n",
       "0                NaN  101851.851852    NaN    NaN       NaN   \n",
       "2                NaN    9266.670000    NaN    NaN       NaN   \n",
       "5                NaN   50758.620690    NaN    NaN       NaN   \n",
       "6                NaN   31500.000000    NaN    NaN       NaN   \n",
       "11               NaN   31308.228070    NaN    NaN       NaN   \n",
       "\n",
       "                                        properati_url        lat         lon  \\\n",
       "0   http://miguel-hidalgo-df.properati.com.mx/o3zb...  23.634501 -102.552788   \n",
       "2   http://tlalpan.properati.com.mx/qbi4_venta_dep...  19.279771  -99.234597   \n",
       "5   http://anzures.properati.com.mx/opct_venta_dep...  19.432657  -99.177444   \n",
       "6   http://benito-juarez.properati.com.mx/r3a9_ven...  19.367025  -99.170349   \n",
       "11  http://benito-juarez.properati.com.mx/pdji_ven...  23.634501 -102.552788   \n",
       "\n",
       "           borough  \n",
       "0   Miguel Hidalgo  \n",
       "2          Tlalpan  \n",
       "5   Miguel Hidalgo  \n",
       "6    Benito Juárez  \n",
       "11   Benito Juárez  "
      ]
     },
     "execution_count": 14,
     "metadata": {},
     "output_type": "execute_result"
    }
   ],
   "source": [
    "df1_subset[\"borough\"] = df1_subset[\"place_with_parent_names\"].str.split(\"|\", expand=True)[1]\n",
    "\n",
    "df1_subset.drop(columns=[\"lat-lon\", \"place_with_parent_names\"], inplace=True)\n",
    "#df1_subset.info()\n",
    "df1_subset.head()"
   ]
  },
  {
   "cell_type": "markdown",
   "id": "5f8954c9",
   "metadata": {},
   "source": [
    "#### Drop Columns: Low and High cardinality"
   ]
  },
  {
   "cell_type": "markdown",
   "id": "32d7266f",
   "metadata": {},
   "source": [
    "Columns with one category or to much categories will not provide any unique infomation to our model. So we will have to drop columns with one category and columns wih too much info."
   ]
  },
  {
   "cell_type": "code",
   "execution_count": 15,
   "id": "3a0810b9",
   "metadata": {},
   "outputs": [
    {
     "data": {
      "text/plain": [
       "operation           1\n",
       "property_type       1\n",
       "currency            1\n",
       "properati_url    1910\n",
       "borough            15\n",
       "dtype: int64"
      ]
     },
     "execution_count": 15,
     "metadata": {},
     "output_type": "execute_result"
    }
   ],
   "source": [
    "df1_subset.select_dtypes(\"object\").nunique()"
   ]
  },
  {
   "cell_type": "code",
   "execution_count": 16,
   "id": "5697e159",
   "metadata": {},
   "outputs": [],
   "source": [
    "# Drop Low and High cardinality categorical variables\n",
    "df1_subset.drop(columns = [\"operation\", \"property_type\", \"currency\", \"properati_url\"], inplace = True)"
   ]
  },
  {
   "cell_type": "markdown",
   "id": "d5827a03",
   "metadata": {},
   "source": [
    "#### Drop Columns: Leakages"
   ]
  },
  {
   "cell_type": "markdown",
   "id": "6d52b385",
   "metadata": {},
   "source": [
    "It is important to drop columns or features that would the model information that it is not supposed to have access to when it is deployed. These columns will give the model an idea of the target."
   ]
  },
  {
   "cell_type": "code",
   "execution_count": 17,
   "id": "c68b2932",
   "metadata": {},
   "outputs": [
    {
     "data": {
      "text/plain": [
       "['borough',\n",
       " 'expenses',\n",
       " 'floor',\n",
       " 'lat',\n",
       " 'lon',\n",
       " 'price',\n",
       " 'price_aprox_local_currency',\n",
       " 'price_aprox_usd',\n",
       " 'price_per_m2',\n",
       " 'price_usd_per_m2',\n",
       " 'rooms',\n",
       " 'surface_covered_in_m2',\n",
       " 'surface_total_in_m2']"
      ]
     },
     "execution_count": 17,
     "metadata": {},
     "output_type": "execute_result"
    }
   ],
   "source": [
    "sorted(df1_subset.columns)"
   ]
  },
  {
   "cell_type": "code",
   "execution_count": 18,
   "id": "27e7bf2d",
   "metadata": {},
   "outputs": [],
   "source": [
    "# Drop Leakage columns\n",
    "df1_subset.drop(columns = [\"price\", \"price_aprox_local_currency\", \"price_per_m2\", \"price_usd_per_m2\"], inplace = True)"
   ]
  },
  {
   "cell_type": "code",
   "execution_count": 19,
   "id": "619c547b",
   "metadata": {},
   "outputs": [
    {
     "name": "stdout",
     "output_type": "stream",
     "text": [
      "<class 'pandas.core.frame.DataFrame'>\n",
      "Int64Index: 1910 entries, 0 to 4627\n",
      "Data columns (total 9 columns):\n",
      " #   Column                 Non-Null Count  Dtype  \n",
      "---  ------                 --------------  -----  \n",
      " 0   price_aprox_usd        1910 non-null   float64\n",
      " 1   surface_total_in_m2    286 non-null    float64\n",
      " 2   surface_covered_in_m2  1910 non-null   float64\n",
      " 3   floor                  0 non-null      float64\n",
      " 4   rooms                  8 non-null      float64\n",
      " 5   expenses               0 non-null      float64\n",
      " 6   lat                    1795 non-null   float64\n",
      " 7   lon                    1795 non-null   float64\n",
      " 8   borough                1910 non-null   object \n",
      "dtypes: float64(8), object(1)\n",
      "memory usage: 149.2+ KB\n"
     ]
    }
   ],
   "source": [
    "df1_subset.info()"
   ]
  },
  {
   "cell_type": "markdown",
   "id": "f0f6fe06",
   "metadata": {},
   "source": [
    "#### Drop Columns: Null Columns\n",
    "\n",
    "Dropping columns with high null values."
   ]
  },
  {
   "cell_type": "code",
   "execution_count": 20,
   "id": "306f6e1f",
   "metadata": {},
   "outputs": [
    {
     "data": {
      "text/plain": [
       "price_aprox_usd             0\n",
       "surface_total_in_m2      1624\n",
       "surface_covered_in_m2       0\n",
       "floor                    1910\n",
       "rooms                    1902\n",
       "expenses                 1910\n",
       "lat                       115\n",
       "lon                       115\n",
       "borough                     0\n",
       "dtype: int64"
      ]
     },
     "execution_count": 20,
     "metadata": {},
     "output_type": "execute_result"
    }
   ],
   "source": [
    "df1_subset.isnull().sum()"
   ]
  },
  {
   "cell_type": "code",
   "execution_count": 21,
   "id": "0cdc458e",
   "metadata": {},
   "outputs": [
    {
     "name": "stdout",
     "output_type": "stream",
     "text": [
      "<class 'pandas.core.frame.DataFrame'>\n",
      "Int64Index: 1910 entries, 0 to 4627\n",
      "Data columns (total 7 columns):\n",
      " #   Column                 Non-Null Count  Dtype  \n",
      "---  ------                 --------------  -----  \n",
      " 0   price_aprox_usd        1910 non-null   float64\n",
      " 1   surface_total_in_m2    286 non-null    float64\n",
      " 2   surface_covered_in_m2  1910 non-null   float64\n",
      " 3   rooms                  8 non-null      float64\n",
      " 4   lat                    1795 non-null   float64\n",
      " 5   lon                    1795 non-null   float64\n",
      " 6   borough                1910 non-null   object \n",
      "dtypes: float64(6), object(1)\n",
      "memory usage: 119.4+ KB\n"
     ]
    }
   ],
   "source": [
    "# Drop Null columns\n",
    "df1_subset.drop(columns = [\"floor\", \"expenses\"], inplace = True)\n",
    "df1_subset.info()"
   ]
  },
  {
   "cell_type": "markdown",
   "id": "feb1657e",
   "metadata": {},
   "source": [
    "#### Drop Columns: Muliticollinearity"
   ]
  },
  {
   "cell_type": "markdown",
   "id": "6a3ab7a9",
   "metadata": {},
   "source": [
    "Check for features that are highl correlated with each other and then pick just one. We will use a **heatmap**"
   ]
  },
  {
   "cell_type": "code",
   "execution_count": 22,
   "id": "7de5ead6",
   "metadata": {},
   "outputs": [
    {
     "data": {
      "text/html": [
       "<div>\n",
       "<style scoped>\n",
       "    .dataframe tbody tr th:only-of-type {\n",
       "        vertical-align: middle;\n",
       "    }\n",
       "\n",
       "    .dataframe tbody tr th {\n",
       "        vertical-align: top;\n",
       "    }\n",
       "\n",
       "    .dataframe thead th {\n",
       "        text-align: right;\n",
       "    }\n",
       "</style>\n",
       "<table border=\"1\" class=\"dataframe\">\n",
       "  <thead>\n",
       "    <tr style=\"text-align: right;\">\n",
       "      <th></th>\n",
       "      <th>surface_total_in_m2</th>\n",
       "      <th>surface_covered_in_m2</th>\n",
       "      <th>rooms</th>\n",
       "      <th>lat</th>\n",
       "      <th>lon</th>\n",
       "    </tr>\n",
       "  </thead>\n",
       "  <tbody>\n",
       "    <tr>\n",
       "      <th>surface_total_in_m2</th>\n",
       "      <td>1.000000</td>\n",
       "      <td>0.341759</td>\n",
       "      <td>0.394654</td>\n",
       "      <td>0.114364</td>\n",
       "      <td>-0.058259</td>\n",
       "    </tr>\n",
       "    <tr>\n",
       "      <th>surface_covered_in_m2</th>\n",
       "      <td>0.341759</td>\n",
       "      <td>1.000000</td>\n",
       "      <td>0.388463</td>\n",
       "      <td>-0.014582</td>\n",
       "      <td>-0.027696</td>\n",
       "    </tr>\n",
       "    <tr>\n",
       "      <th>rooms</th>\n",
       "      <td>0.394654</td>\n",
       "      <td>0.388463</td>\n",
       "      <td>1.000000</td>\n",
       "      <td>-0.774708</td>\n",
       "      <td>-0.179361</td>\n",
       "    </tr>\n",
       "    <tr>\n",
       "      <th>lat</th>\n",
       "      <td>0.114364</td>\n",
       "      <td>-0.014582</td>\n",
       "      <td>-0.774708</td>\n",
       "      <td>1.000000</td>\n",
       "      <td>-0.990377</td>\n",
       "    </tr>\n",
       "    <tr>\n",
       "      <th>lon</th>\n",
       "      <td>-0.058259</td>\n",
       "      <td>-0.027696</td>\n",
       "      <td>-0.179361</td>\n",
       "      <td>-0.990377</td>\n",
       "      <td>1.000000</td>\n",
       "    </tr>\n",
       "  </tbody>\n",
       "</table>\n",
       "</div>"
      ],
      "text/plain": [
       "                       surface_total_in_m2  surface_covered_in_m2     rooms  \\\n",
       "surface_total_in_m2               1.000000               0.341759  0.394654   \n",
       "surface_covered_in_m2             0.341759               1.000000  0.388463   \n",
       "rooms                             0.394654               0.388463  1.000000   \n",
       "lat                               0.114364              -0.014582 -0.774708   \n",
       "lon                              -0.058259              -0.027696 -0.179361   \n",
       "\n",
       "                            lat       lon  \n",
       "surface_total_in_m2    0.114364 -0.058259  \n",
       "surface_covered_in_m2 -0.014582 -0.027696  \n",
       "rooms                 -0.774708 -0.179361  \n",
       "lat                    1.000000 -0.990377  \n",
       "lon                   -0.990377  1.000000  "
      ]
     },
     "execution_count": 22,
     "metadata": {},
     "output_type": "execute_result"
    }
   ],
   "source": [
    "# Check correlation using heatmap\n",
    "corr = df1_subset.select_dtypes(\"number\").drop(columns = \"price_aprox_usd\").corr()\n",
    "corr"
   ]
  },
  {
   "cell_type": "code",
   "execution_count": 23,
   "id": "51a49391",
   "metadata": {},
   "outputs": [
    {
     "data": {
      "image/png": "[encoded data removed]",
      "text/plain": [
       "<Figure size 432x288 with 2 Axes>"
      ]
     },
     "metadata": {},
     "output_type": "display_data"
    }
   ],
   "source": [
    "sns.heatmap(corr)\n",
    "\n",
    "# save as an image\n",
    "plt.savefig(\"images/1-3.png\", dpi=150)"
   ]
  },
  {
   "cell_type": "code",
   "execution_count": 24,
   "id": "3e9ab73a",
   "metadata": {},
   "outputs": [],
   "source": [
    "# Drop columns with multicollinearity\n",
    "df1_subset.drop(columns = [\"rooms\", \"surface_total_in_m2\"], inplace = True)"
   ]
  },
  {
   "cell_type": "code",
   "execution_count": 25,
   "id": "44a7f70b",
   "metadata": {},
   "outputs": [
    {
     "data": {
      "text/html": [
       "<div>\n",
       "<style scoped>\n",
       "    .dataframe tbody tr th:only-of-type {\n",
       "        vertical-align: middle;\n",
       "    }\n",
       "\n",
       "    .dataframe tbody tr th {\n",
       "        vertical-align: top;\n",
       "    }\n",
       "\n",
       "    .dataframe thead th {\n",
       "        text-align: right;\n",
       "    }\n",
       "</style>\n",
       "<table border=\"1\" class=\"dataframe\">\n",
       "  <thead>\n",
       "    <tr style=\"text-align: right;\">\n",
       "      <th></th>\n",
       "      <th>price_aprox_usd</th>\n",
       "      <th>surface_covered_in_m2</th>\n",
       "      <th>lat</th>\n",
       "      <th>lon</th>\n",
       "      <th>borough</th>\n",
       "    </tr>\n",
       "  </thead>\n",
       "  <tbody>\n",
       "    <tr>\n",
       "      <th>0</th>\n",
       "      <td>289775.66</td>\n",
       "      <td>54.0</td>\n",
       "      <td>23.634501</td>\n",
       "      <td>-102.552788</td>\n",
       "      <td>Miguel Hidalgo</td>\n",
       "    </tr>\n",
       "    <tr>\n",
       "      <th>2</th>\n",
       "      <td>48822.82</td>\n",
       "      <td>100.0</td>\n",
       "      <td>19.279771</td>\n",
       "      <td>-99.234597</td>\n",
       "      <td>Tlalpan</td>\n",
       "    </tr>\n",
       "    <tr>\n",
       "      <th>5</th>\n",
       "      <td>232663.51</td>\n",
       "      <td>87.0</td>\n",
       "      <td>19.432657</td>\n",
       "      <td>-99.177444</td>\n",
       "      <td>Miguel Hidalgo</td>\n",
       "    </tr>\n",
       "    <tr>\n",
       "      <th>6</th>\n",
       "      <td>166001.78</td>\n",
       "      <td>100.0</td>\n",
       "      <td>19.367025</td>\n",
       "      <td>-99.170349</td>\n",
       "      <td>Benito Juárez</td>\n",
       "    </tr>\n",
       "    <tr>\n",
       "      <th>11</th>\n",
       "      <td>94022.66</td>\n",
       "      <td>57.0</td>\n",
       "      <td>23.634501</td>\n",
       "      <td>-102.552788</td>\n",
       "      <td>Benito Juárez</td>\n",
       "    </tr>\n",
       "  </tbody>\n",
       "</table>\n",
       "</div>"
      ],
      "text/plain": [
       "    price_aprox_usd  surface_covered_in_m2        lat         lon  \\\n",
       "0         289775.66                   54.0  23.634501 -102.552788   \n",
       "2          48822.82                  100.0  19.279771  -99.234597   \n",
       "5         232663.51                   87.0  19.432657  -99.177444   \n",
       "6         166001.78                  100.0  19.367025  -99.170349   \n",
       "11         94022.66                   57.0  23.634501 -102.552788   \n",
       "\n",
       "           borough  \n",
       "0   Miguel Hidalgo  \n",
       "2          Tlalpan  \n",
       "5   Miguel Hidalgo  \n",
       "6    Benito Juárez  \n",
       "11   Benito Juárez  "
      ]
     },
     "execution_count": 25,
     "metadata": {},
     "output_type": "execute_result"
    }
   ],
   "source": [
    "df1_subset.head()"
   ]
  },
  {
   "cell_type": "markdown",
   "id": "d348664a",
   "metadata": {},
   "source": [
    "<font size=\"+1\"><strong>2. Wrangle Function</strong></font>"
   ]
  },
  {
   "cell_type": "markdown",
   "id": "446c6cde",
   "metadata": {},
   "source": [
    "One way to automate the data importing and cleaning process is by writing a **function**. Since we have a collection of data, this will make sure that all our data undergoes the same process, and that the analysis is easily reproducible — something that's very important in science in general and data science in particular. "
   ]
  },
  {
   "cell_type": "code",
   "execution_count": 26,
   "id": "080e0e5e",
   "metadata": {},
   "outputs": [],
   "source": [
    "def wrangle(filepath):\n",
    "    # Read CSV file\n",
    "    df = pd.read_csv(filepath)\n",
    "\n",
    "    # Subset data: Apartments in \"Distrito Federal\", less than 400,000\n",
    "    state = df[\"place_with_parent_names\"].str.contains(\"Distrito Federal\")\n",
    "    apt = df[\"property_type\"] == \"apartment\"\n",
    "    price = df[\"price_aprox_usd\"] < 400_000\n",
    "    \n",
    "    df = df[state & apt & price]\n",
    "\n",
    "    #Subset data: Remove outliers for \"surface_covered_in_m2\"\n",
    "    low, high = df[\"surface_covered_in_m2\"].quantile([0.1, 0.9])\n",
    "    area = df[\"surface_covered_in_m2\"].between(low, high)\n",
    "    df = df[area]\n",
    "\n",
    "    # Split \"lat-lon\" column\n",
    "    df[[\"lat\", \"lon\"]] = df[\"lat-lon\"].str.split(\",\", expand=True).astype(float)\n",
    "    \n",
    "    # create neighborhood column\n",
    "    df[\"borough\"] = df[\"place_with_parent_names\"].str.split(\"|\", expand=True)[1]\n",
    "    \n",
    "    # drop columns\n",
    "    df.drop(columns=[\"lat-lon\", \"place_with_parent_names\"], inplace=True)\n",
    "    \n",
    "    # Drop Low and High cardinality categorical variables\n",
    "    df.drop(columns = [\"operation\", \"property_type\", \"currency\", \"properati_url\"], inplace = True)\n",
    "    \n",
    "    # Drop Leakage columns\n",
    "    df.drop(columns = [\"price\", \"price_aprox_local_currency\", \"price_per_m2\", \"price_usd_per_m2\"], inplace = True)\n",
    "    \n",
    "    # Drop Null columns\n",
    "    df.drop(columns = [\"floor\", \"expenses\"], inplace = True)\n",
    "    \n",
    "    # Drop columns with multicollinearity\n",
    "    df.drop(columns = [\"rooms\", \"surface_total_in_m2\"], inplace = True)\n",
    "    \n",
    "    return df"
   ]
  },
  {
   "cell_type": "code",
   "execution_count": 27,
   "id": "5b8c9988",
   "metadata": {},
   "outputs": [],
   "source": [
    "df1 = wrangle(\"data/mexico-city-real-estate-1.csv\")\n",
    "df2 = wrangle(\"data/mexico-city-real-estate-2.csv\")\n",
    "df3 = wrangle(\"data/mexico-city-real-estate-3.csv\")\n",
    "df4 = wrangle(\"data/mexico-city-real-estate-4.csv\")\n",
    "df5 = wrangle(\"data/mexico-city-real-estate-5.csv\")"
   ]
  },
  {
   "cell_type": "markdown",
   "id": "8fb04b1f",
   "metadata": {},
   "source": [
    "Use [`glob`](https://docs.python.org/3/library/glob.html#glob.glob) to create a list that contains the filenames for all the Mexico City real estate CSV files in the directory.\n"
   ]
  },
  {
   "cell_type": "code",
   "execution_count": 28,
   "id": "606ba1c1",
   "metadata": {},
   "outputs": [
    {
     "data": {
      "text/plain": [
       "['data\\\\mexico-city-real-estate-1.csv',\n",
       " 'data\\\\mexico-city-real-estate-2.csv',\n",
       " 'data\\\\mexico-city-real-estate-3.csv',\n",
       " 'data\\\\mexico-city-real-estate-4.csv',\n",
       " 'data\\\\mexico-city-real-estate-5.csv']"
      ]
     },
     "execution_count": 28,
     "metadata": {},
     "output_type": "execute_result"
    }
   ],
   "source": [
    "files = glob(\"data/mexico-city-real-estate-*.csv\")\n",
    "files"
   ]
  },
  {
   "cell_type": "markdown",
   "id": "00d5b46d",
   "metadata": {},
   "source": [
    "The next step is to read each of the CSVs in `files` into a DataFrame, and put all of those DataFrames into a list. What's a good way to iterate through `files` so we can do this? A `for` loop!"
   ]
  },
  {
   "cell_type": "code",
   "execution_count": 29,
   "id": "ed26a3cb",
   "metadata": {},
   "outputs": [],
   "source": [
    "frames = [wrangle(file) for file in files]"
   ]
  },
  {
   "cell_type": "code",
   "execution_count": 30,
   "id": "3920c9a9",
   "metadata": {},
   "outputs": [],
   "source": [
    "frames = []\n",
    "for file in files:\n",
    "    df = wrangle(file)\n",
    "    frames.append(df)"
   ]
  },
  {
   "cell_type": "markdown",
   "id": "03ade3fe",
   "metadata": {},
   "source": [
    "The final step is to use pandas to combine all the DataFrames in `frames`. "
   ]
  },
  {
   "cell_type": "markdown",
   "id": "5d2bdbf9",
   "metadata": {},
   "source": [
    "Use [`pd.concat`](https://pandas.pydata.org/docs/reference/api/pandas.concat.html) to concatenate the items in `frames` into a single DataFrame `df`. Make sure you set the `ignore_index` argument to `True`."
   ]
  },
  {
   "cell_type": "code",
   "execution_count": 31,
   "id": "3d7ad842",
   "metadata": {},
   "outputs": [
    {
     "data": {
      "text/html": [
       "<div>\n",
       "<style scoped>\n",
       "    .dataframe tbody tr th:only-of-type {\n",
       "        vertical-align: middle;\n",
       "    }\n",
       "\n",
       "    .dataframe tbody tr th {\n",
       "        vertical-align: top;\n",
       "    }\n",
       "\n",
       "    .dataframe thead th {\n",
       "        text-align: right;\n",
       "    }\n",
       "</style>\n",
       "<table border=\"1\" class=\"dataframe\">\n",
       "  <thead>\n",
       "    <tr style=\"text-align: right;\">\n",
       "      <th></th>\n",
       "      <th>price_aprox_usd</th>\n",
       "      <th>surface_covered_in_m2</th>\n",
       "      <th>lat</th>\n",
       "      <th>lon</th>\n",
       "      <th>borough</th>\n",
       "    </tr>\n",
       "  </thead>\n",
       "  <tbody>\n",
       "    <tr>\n",
       "      <th>0</th>\n",
       "      <td>289775.66</td>\n",
       "      <td>54.0</td>\n",
       "      <td>23.634501</td>\n",
       "      <td>-102.552788</td>\n",
       "      <td>Miguel Hidalgo</td>\n",
       "    </tr>\n",
       "    <tr>\n",
       "      <th>1</th>\n",
       "      <td>48822.82</td>\n",
       "      <td>100.0</td>\n",
       "      <td>19.279771</td>\n",
       "      <td>-99.234597</td>\n",
       "      <td>Tlalpan</td>\n",
       "    </tr>\n",
       "    <tr>\n",
       "      <th>2</th>\n",
       "      <td>232663.51</td>\n",
       "      <td>87.0</td>\n",
       "      <td>19.432657</td>\n",
       "      <td>-99.177444</td>\n",
       "      <td>Miguel Hidalgo</td>\n",
       "    </tr>\n",
       "    <tr>\n",
       "      <th>3</th>\n",
       "      <td>166001.78</td>\n",
       "      <td>100.0</td>\n",
       "      <td>19.367025</td>\n",
       "      <td>-99.170349</td>\n",
       "      <td>Benito Juárez</td>\n",
       "    </tr>\n",
       "    <tr>\n",
       "      <th>4</th>\n",
       "      <td>94022.66</td>\n",
       "      <td>57.0</td>\n",
       "      <td>23.634501</td>\n",
       "      <td>-102.552788</td>\n",
       "      <td>Benito Juárez</td>\n",
       "    </tr>\n",
       "  </tbody>\n",
       "</table>\n",
       "</div>"
      ],
      "text/plain": [
       "   price_aprox_usd  surface_covered_in_m2        lat         lon  \\\n",
       "0        289775.66                   54.0  23.634501 -102.552788   \n",
       "1         48822.82                  100.0  19.279771  -99.234597   \n",
       "2        232663.51                   87.0  19.432657  -99.177444   \n",
       "3        166001.78                  100.0  19.367025  -99.170349   \n",
       "4         94022.66                   57.0  23.634501 -102.552788   \n",
       "\n",
       "          borough  \n",
       "0  Miguel Hidalgo  \n",
       "1         Tlalpan  \n",
       "2  Miguel Hidalgo  \n",
       "3   Benito Juárez  \n",
       "4   Benito Juárez  "
      ]
     },
     "execution_count": 31,
     "metadata": {},
     "output_type": "execute_result"
    }
   ],
   "source": [
    "df = pd.concat(frames, ignore_index=True)\n",
    "df.head()"
   ]
  },
  {
   "cell_type": "code",
   "execution_count": 32,
   "id": "f1893022",
   "metadata": {},
   "outputs": [
    {
     "data": {
      "text/plain": [
       "(9330, 5)"
      ]
     },
     "execution_count": 32,
     "metadata": {},
     "output_type": "execute_result"
    }
   ],
   "source": [
    "df.shape"
   ]
  },
  {
   "cell_type": "markdown",
   "id": "ca2533c1",
   "metadata": {},
   "source": [
    "## Save the clean data as a new csv file \"`mexico-real-estate-clean.csv`\""
   ]
  },
  {
   "cell_type": "code",
   "execution_count": 33,
   "id": "c493cf5d",
   "metadata": {},
   "outputs": [],
   "source": [
    "df.to_csv(\"data/mexico-city-real-estate-clean.csv\", index=False)"
   ]
  },
  {
   "cell_type": "code",
   "execution_count": null,
   "id": "c17765bc",
   "metadata": {},
   "outputs": [],
   "source": []
  }
 ],
 "metadata": {
  "kernelspec": {
   "display_name": "Python 3 (ipykernel)",
   "language": "python",
   "name": "python3"
  },
  "language_info": {
   "codemirror_mode": {
    "name": "ipython",
    "version": 3
   },
   "file_extension": ".py",
   "mimetype": "text/x-python",
   "name": "python",
   "nbconvert_exporter": "python",
   "pygments_lexer": "ipython3",
   "version": "3.9.7"
  }
 },
 "nbformat": 4,
 "nbformat_minor": 5
}
